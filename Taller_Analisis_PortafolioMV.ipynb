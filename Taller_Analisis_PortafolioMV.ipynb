{
  "nbformat": 4,
  "nbformat_minor": 0,
  "metadata": {
    "colab": {
      "provenance": []
    },
    "kernelspec": {
      "name": "python3",
      "display_name": "Python 3"
    },
    "language_info": {
      "name": "python"
    }
  },
  "cells": [
    {
      "cell_type": "markdown",
      "source": [
        "# 🏆 Preparación Concurso: Análisis de Portafolio de Inversión\n",
        "\n",
        "**Asignatura:** Lenguajes de Programación  \n",
        "**Objetivo:** Investigar y proponer un modelo de análisis de portafolio de inversión aplicable a empresas digitales o comercios electrónicos."
      ],
      "metadata": {
        "id": "dajibSZ60Fkv"
      }
    },
    {
      "cell_type": "markdown",
      "source": [
        "## 👥 1. Integrantes del Grupo\n",
        "\n",
        "**Nombre del grupo:** MRS\n",
        "\n",
        "**Integrantes:**\n",
        "1. Marlly Vergara  \n",
        "2. Ramiro Castrillon\n",
        "3. Sara Ibarra Ramirez"
      ],
      "metadata": {
        "id": "pxMDFINJ01uW"
      }
    },
    {
      "cell_type": "markdown",
      "source": [
        "## 📚 2. ¿Qué es un Análisis de Portafolio de Inversión?\n",
        "\n",
        "El análisis de un portafolio de inversión consiste en la evaluación del comportamiento de sus activos constituyentes con el fin de determinar si la mezcla de inversión logra un balance adecuado entre potencial de rendimiento y riesgo.\n",
        "\n",
        "## Medición de Rendimiento y Riesgo\n",
        "Este proceso permite cuantificar el rendimiento esperado (la ganancia promedio proyectada de la inversión) y medir el riesgo, que representa la probabilidad de que los retornos reales difieran de las expectativas. Para esta medición de la incertidumbre se emplean diversas métricas estadísticas, como la volatilidad, la varianza o la desviación estándar.\n",
        "\n",
        "## El Papel de la Diversificación\n",
        "Un componente esencial de este análisis es el estudio de la correlación entre los activos, lo cual revela si sus movimientos de precios son sincronizados o contrarios. Este entendimiento es crucial, ya que una estrategia de diversificación efectiva (seleccionar activos con baja correlación) permite reducir el riesgo general del portafolio, o su volatilidad, sin necesidad de sacrificar significativamente la rentabilidad potencial."
      ],
      "metadata": {
        "id": "QDjjuVY11kTM"
      }
    },
    {
      "cell_type": "markdown",
      "source": [
        "## 3. Investigación: Tipos de Análisis de Portafolio 🔍\n",
        "\n",
        "##🟦 1. Análisis de Rendimiento y Riesgo\n",
        "Este enfoque se centra en cuantificar las ganancias potenciales (rentabilidad) y las pérdidas potenciales (riesgo) asociadas a una inversión colectiva.\n",
        "\n",
        "La rentabilidad esperada es la ganancia promedio que se proyecta obtener de la cartera durante un periodo específico. Por ejemplo, si los activos históricamente retornan un 10% anual, esa sería la expectativa de ganancia.\n",
        "\n",
        "El riesgo, por su parte, mide la inestabilidad o la variabilidad de esos resultados. Una alta oscilación en los precios de los activos indica un riesgo elevado. Se utilizan indicadores estadísticos como la varianza (que mide la dispersión de los rendimientos respecto al promedio), la desviación estándar (que indica el grado de variación de los resultados) y la volatilidad (que refleja la intensidad del cambio de precios).\n",
        "\n",
        "El principal objetivo es hallar un punto de equilibrio. Dado que una mayor rentabilidad potencial suele ir acompañada de un riesgo más alto, este análisis ayuda al inversor a determinar si la recompensa justificada el nivel de riesgo asumido. Es fundamental para tomar decisiones informadas sobre la asignación de capital.\n",
        "\n",
        "## 🟩 2. Análisis de Diversificación y Correlación\n",
        "Este análisis se enfoca en cómo la combinación de activos afecta el riesgo global de la cartera.\n",
        "\n",
        "La diversificación es la estrategia de distribuir el capital en distintos tipos de inversiones (como acciones, bonos o fondos) para evitar que la pérdida de valor en un activo anule los retornos del portafolio completo. Esencialmente, busca que los rendimientos positivos de unos activos compensen los negativos de otros.\n",
        "\n",
        "La correlación es la métrica que mide la relación entre los movimientos de precios de dos activos:\n",
        "\n",
        "Correlación positiva: Los precios de los activos se mueven en la misma dirección.\n",
        "\n",
        "Correlación negativa: Cuando el precio de un activo sube, el del otro tiende a bajar, y viceversa.\n",
        "\n",
        "Una diversificación eficaz se logra combinando activos con baja o negativa correlación (por ejemplo, acciones tecnológicas y bonos gubernamentales), ya que su comportamiento diferente ante las fluctuaciones del mercado ayuda a reducir la inestabilidad y el riesgo total de la cartera.\n",
        "\n",
        "## 🟧 3. Análisis de Optimización (Frontera Eficiente)\n",
        "La optimización busca la mejor distribución de capital posible dentro del portafolio.\n",
        "\n",
        "Se basa en la Teoría Moderna de Portafolio de Harry Markowitz, cuyo principio es que se puede construir una cartera para maximizar la rentabilidad para un nivel de riesgo fijo, o minimizar el riesgo para un nivel de rendimiento deseado.\n",
        "\n",
        "Este análisis emplea cálculos matemáticos y estadísticos para determinar el porcentaje exacto que debe invertirse en cada activo (e.g., 40% acciones, 30% bonos, 30% fondos internacionales) para lograr el mejor resultado posible.\n",
        "\n",
        "Los resultados se visualizan en la Frontera Eficiente, una curva gráfica que muestra el conjunto de combinaciones de activos que ofrecen la relación óptima de riesgo y rentabilidad."
      ],
      "metadata": {
        "id": "CQ51MgjT1oJo"
      }
    },
    {
      "cell_type": "markdown",
      "source": [
        "## ✅4. Propuesta Elegida: Análisis de Optimización (Frontera Eficiente)\n",
        "\n",
        "Seleccionamos esta propuesta porque es el método más efectivo para identificar la combinación óptima de activos que garantiza un balance ideal entre riesgo y rentabilidad. Su valor reside en que integra herramientas estadísticas y de programación esenciales para fundamentar la toma de decisiones financieras. En esencia, constituye un método completo y aplicable que facilita la construcción de portafolios eficientes adaptados al perfil específico de cada inversor."
      ],
      "metadata": {
        "id": "XvJd4Ofj3Iq9"
      }
    },
    {
      "cell_type": "markdown",
      "source": [
        "## 🛠️ 5. Herramientas de Trabajo\n",
        "\n",
        "El equipo empleará Python en Google Colab como la plataforma principal, dada su capacidad para ejecutar cálculos estadísticos complejos, programar simulaciones financieras y visualizar de forma gráfica los resultados del portafolio de inversión.\n",
        "\n",
        "Adicionalmente, se utilizará GitHub como herramienta de gestión de proyectos. Esto permitirá el almacenamiento y la distribución colaborativa del código, asegurando un control de versiones eficiente y una mejor organización del trabajo en grupo."
      ],
      "metadata": {
        "id": "ce_dKxj43KCK"
      }
    },
    {
      "cell_type": "markdown",
      "source": [
        "## 📖 6. Referencias y Fuentes\n",
        "\n",
        "\n",
        "Investopedia. (2024). Modern Portfolio Theory (MPT). Recuperado de https://www.investopedia.com/terms/m/modernportfoliotheory.asp\n",
        "\n",
        "Corporate Finance Institute (CFI). (2024). Modern Portfolio Theory (MPT) – Overview, Diversification. Recuperado de https://corporatefinanceinstitute.com/resources/career-map/sell-side/capital-markets/modern-portfolio-theory-mpt/\n",
        "\n",
        "QuantInsti. (2024). Portfolio Optimization Methods. Recuperado de https://blog.quantinsti.com/portfolio-optimization-methods/\n",
        "\n",
        "ResearchGate. (2023). Portfolio Optimization: Theory, Methods, and Applications. Recuperado de https://www.researchgate.net/publication/381458899_Portfolio_Optimization_Theory_Methods_and_Applications"
      ],
      "metadata": {
        "id": "NLe7Ten43TQE"
      }
    }
  ]
}